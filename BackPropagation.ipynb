{
 "cells": [
  {
   "cell_type": "code",
   "execution_count": 1,
   "id": "fa7c0dae",
   "metadata": {},
   "outputs": [
    {
     "data": {
      "image/png": "[encoded data removed]",
      "text/plain": [
       "<Figure size 432x288 with 1 Axes>"
      ]
     },
     "metadata": {
      "needs_background": "light"
     },
     "output_type": "display_data"
    },
    {
     "name": "stdout",
     "output_type": "stream",
     "text": [
      "input:\n",
      "[[0.66666667 1.        ]\n",
      " [0.33333333 0.55555556]\n",
      " [1.         0.66666667]]\n",
      "Actual output:\n",
      "[[0.92]\n",
      " [0.86]\n",
      " [0.89]]\n",
      "Predicted output \n",
      " [[0.894344  ]\n",
      " [0.88187507]\n",
      " [0.89293124]]\n"
     ]
    }
   ],
   "source": [
    "import numpy as np\n",
    "import time\n",
    "import matplotlib.pyplot as plt\n",
    "X=np.array(([2,9],[1,5],[3,6]),dtype=float)\n",
    "y=np.array(([92],[86],[89]),dtype=float)\n",
    "X=X/np.amax(X,axis=0)\n",
    "y=y/100\n",
    "def sigmoid(x):\n",
    "    return 1/(1+np.exp(-x))\n",
    "\n",
    "def derivatives_sigmoid(x):\n",
    "    return x*(1-x)\n",
    "A=[]\n",
    "B=[]\n",
    "for i in range(5):\n",
    "    epoch=700*i\n",
    "    A.append(epoch) \n",
    "    lr=0.1\n",
    "    inputlayer_neurons=2\n",
    "    hiddenlayer_neurons=3\n",
    "    output_neurons=1\n",
    "\n",
    "    wh=np.random.uniform(size=(inputlayer_neurons,hiddenlayer_neurons))\n",
    "    bh=np.random.uniform(size=(1,hiddenlayer_neurons))\n",
    "    wout=np.random.uniform(size=(hiddenlayer_neurons,output_neurons))\n",
    "    bout=np.random.uniform(size=(1,output_neurons))\n",
    "\n",
    "    start_time=time.time()\n",
    "    \n",
    "\n",
    "    for i in range(epoch):\n",
    "        hinp1=np.dot(X,wh)\n",
    "        hinp=hinp1+bh\n",
    "        hlayer_act=sigmoid(hinp)\n",
    "        outinp1=np.dot(hlayer_act,wout)\n",
    "        outinp=outinp1+bout\n",
    "        output=sigmoid(outinp)\n",
    "        EO=y-output\n",
    "        outgrad=derivatives_sigmoid(output)\n",
    "        d_output=EO* outgrad\n",
    "        EH=d_output.dot(wout.T)\n",
    "        hiddengrad=derivatives_sigmoid(hlayer_act)\n",
    "        d_hiddenlayer=EH*hiddengrad\n",
    "        wout+=hlayer_act.T.dot(d_output)*lr\n",
    "        bout+=np.sum(d_output,axis=0,keepdims=True)*lr\n",
    "        wh+=X.T.dot(d_hiddenlayer)*lr\n",
    "        bh+=np.sum(d_hiddenlayer,axis=0,keepdims=True)*lr\n",
    "    B.append((time.time() - start_time))\n",
    "\n",
    "plt.plot(A, B)\n",
    "plt.xlabel('x - axis')\n",
    "plt.ylabel('y - axis')\n",
    "plt.title('My first graph!')\n",
    "plt.show()\n",
    "print(\"input:\\n\" + str(X))\n",
    "print(\"Actual output:\\n\" + str(y))\n",
    "print(\"Predicted output \\n\",output)"
   ]
  },
  {
   "cell_type": "code",
   "execution_count": null,
   "id": "9a7d2080",
   "metadata": {},
   "outputs": [],
   "source": []
  }
 ],
 "metadata": {
  "kernelspec": {
   "display_name": "Python 3 (ipykernel)",
   "language": "python",
   "name": "python3"
  },
  "language_info": {
   "codemirror_mode": {
    "name": "ipython",
    "version": 3
   },
   "file_extension": ".py",
   "mimetype": "text/x-python",
   "name": "python",
   "nbconvert_exporter": "python",
   "pygments_lexer": "ipython3",
   "version": "3.9.7"
  }
 },
 "nbformat": 4,
 "nbformat_minor": 5
}
